{
 "cells": [
  {
   "cell_type": "markdown",
   "metadata": {},
   "source": [
    "# Sparkify 项目 Workspace\n",
    "这个 Workspace 包括一个迷你的子数据集（128MB），是完整数据集（12GB）的一个子集。在将你的项目部署到云上之前，你可以自由使用 Workspace 来创建你的项目或用Spark来探索这个较小数据集。设置 Spark 集群的指南可以在选修 Spark 课程的内容里找到。\n",
    "\n",
    "你可以依照下面的步骤进行项目的数据分析和模型搭建部分。"
   ]
  },
  {
   "cell_type": "code",
   "execution_count": 1,
   "metadata": {},
   "outputs": [],
   "source": [
    "# import libraries\n",
    "from pyspark.sql import SparkSession\n",
    "\n",
    "\n",
    "from pyspark.sql.functions import sum as Fsum\n",
    "\n",
    "from pyspark.sql.functions import col, lit, udf, isnan, count, when, desc, sort_array, asc, avg, lag, floor, desc\n",
    "from pyspark.sql.types import IntegerType, DateType, StringType\n",
    "from pyspark.sql.window import Window\n",
    "from pyspark.sql import functions as sF\n",
    "from pyspark.sql import types as sT\n",
    "\n",
    "import datetime\n",
    "\n",
    "from pyspark.sql import Window\n",
    "import pandas as pd\n",
    "import numpy as np\n",
    "import seaborn as sns\n",
    "from matplotlib import pyplot as plt\n",
    "%matplotlib inline\n",
    "\n",
    "\n",
    "from pyspark.ml.feature import VectorAssembler,StringIndexer\n",
    "from pyspark.ml.feature import StandardScaler \n",
    "from pyspark.ml.evaluation import MulticlassClassificationEvaluator\n",
    "from pyspark.sql.types import DoubleType\n",
    "from pyspark.ml.tuning import CrossValidator, ParamGridBuilder\n",
    "import datetime\n",
    "from pyspark.ml import Pipeline \n",
    "from pyspark.ml.classification import LogisticRegression, RandomForestClassifier, LinearSVC, GBTClassifier\n",
    "from pyspark.ml.evaluation import BinaryClassificationEvaluator\n",
    "from pyspark.mllib.evaluation import MulticlassMetrics\n",
    "import pyspark.sql.functions as fn\n",
    "from sklearn import preprocessing\n",
    "import pandas as pd\n",
    "import numpy as np\n",
    "from matplotlib import pyplot as plt\n",
    "%matplotlib inline\n"
   ]
  },
  {
   "cell_type": "code",
   "execution_count": 2,
   "metadata": {},
   "outputs": [
    {
     "name": "stdout",
     "output_type": "stream",
     "text": [
      "root\n",
      " |-- artist: string (nullable = true)\n",
      " |-- auth: string (nullable = true)\n",
      " |-- firstName: string (nullable = true)\n",
      " |-- gender: string (nullable = true)\n",
      " |-- itemInSession: long (nullable = true)\n",
      " |-- lastName: string (nullable = true)\n",
      " |-- length: double (nullable = true)\n",
      " |-- level: string (nullable = true)\n",
      " |-- location: string (nullable = true)\n",
      " |-- method: string (nullable = true)\n",
      " |-- page: string (nullable = true)\n",
      " |-- registration: long (nullable = true)\n",
      " |-- sessionId: long (nullable = true)\n",
      " |-- song: string (nullable = true)\n",
      " |-- status: long (nullable = true)\n",
      " |-- ts: long (nullable = true)\n",
      " |-- userAgent: string (nullable = true)\n",
      " |-- userId: string (nullable = true)\n",
      "\n"
     ]
    }
   ],
   "source": [
    "# create a Spark session\n",
    "#查看数据集的列及其变量的含义\n",
    "\n",
    "spark = SparkSession.builder.appName(\"Sparkify\").getOrCreate()\n",
    "df = spark.read.json('mini_sparkify_event_data.json')\n",
    "\n",
    "df.printSchema()"
   ]
  },
  {
   "cell_type": "markdown",
   "metadata": {},
   "source": [
    "\n",
    " |-- artist: string (歌手)\n",
    " |-- auth: string (登录状态)\n",
    " |-- firstName: string (名字)\n",
    " |-- gender: string (性别)\n",
    " |-- itemInSession: long (连续变量, 具体含义暂不明确)\n",
    " |-- lastName: string (姓氏)\n",
    " |-- length: double (听歌时长)\n",
    " |-- level: string (会员等级)\n",
    " |-- location: string (地区)\n",
    " |-- method: string (分类变量, 具体含义暂不明确, 可能与用户发送\\接受app信息有关)\n",
    " |-- page: string (请求页面)\n",
    " |-- registration: long (注册时间)\n",
    " |-- sessionId: long (页面ID)\n",
    " |-- song: string (歌名)\n",
    " |-- status: long (分类变量, 具体含义暂不明确, 可能与连接状态有关)\n",
    " |-- ts: long (连续变量, 具体含义暂不明确)\n",
    " |-- userAgent: string (用户使用平台信息)\n",
    " |-- userId: string (用户ID)\n"
   ]
  },
  {
   "cell_type": "markdown",
   "metadata": {},
   "source": [
    "# 加载和清洗数据\n",
    "在这个 Workspace 中，小数据集的名称是 `mini_sparkify_event_data.json`.加载和清洗数据集，检查是否有无效或缺失数据——例如，没有userid或sessionid的数据。 "
   ]
  },
  {
   "cell_type": "markdown",
   "metadata": {},
   "source": [
    "#### 清洗数据\n",
    "- 查看是否有空值，将有空值的所有行都删除\n",
    "- location是城市和州组成的，需要分开\n",
    "- registration是注册时间，ts是时常，应该将其改成时间类型\n"
   ]
  },
  {
   "cell_type": "code",
   "execution_count": 3,
   "metadata": {},
   "outputs": [
    {
     "data": {
      "text/plain": [
       "286500"
      ]
     },
     "execution_count": 3,
     "metadata": {},
     "output_type": "execute_result"
    }
   ],
   "source": [
    "df.count()"
   ]
  },
  {
   "cell_type": "code",
   "execution_count": 4,
   "metadata": {},
   "outputs": [
    {
     "name": "stdout",
     "output_type": "stream",
     "text": [
      "artist:  58392\n",
      "auth:  0\n",
      "firstName:  8346\n",
      "gender:  8346\n",
      "itemInSession:  0\n",
      "lastName:  8346\n",
      "length:  58392\n",
      "level:  0\n",
      "location:  8346\n",
      "method:  0\n",
      "page:  0\n",
      "registration:  8346\n",
      "sessionId:  0\n",
      "song:  58392\n",
      "status:  0\n",
      "ts:  0\n",
      "userAgent:  8346\n",
      "userId:  8346\n"
     ]
    }
   ],
   "source": [
    "# 查看是否有空值\n",
    "for col in df.columns:\n",
    "    missing_count = df.filter((df[col] == \"\") | df[col].isNull() | isnan(df[col])).count()\n",
    "    print('{}: '.format(col), missing_count)"
   ]
  },
  {
   "cell_type": "code",
   "execution_count": 5,
   "metadata": {},
   "outputs": [],
   "source": [
    "#因为userid和sessionid都是唯一值，和分析客户流失率有着重要的关系，所以删除这两个项目存在空值的行\n",
    "dfx = df.filter((df['userId'] != \"\") & df['userId'].isNotNull() & ~isnan(df['userId']))\n",
    "\n",
    "dfx = dfx.filter((dfx['sessionId'].isNotNull()) & (~isnan(dfx['sessionId'])))\n"
   ]
  },
  {
   "cell_type": "code",
   "execution_count": 6,
   "metadata": {},
   "outputs": [
    {
     "data": {
      "text/plain": [
       "278154"
      ]
     },
     "execution_count": 6,
     "metadata": {},
     "output_type": "execute_result"
    }
   ],
   "source": [
    "dfx.count() "
   ]
  },
  {
   "cell_type": "code",
   "execution_count": 7,
   "metadata": {},
   "outputs": [
    {
     "name": "stdout",
     "output_type": "stream",
     "text": [
      "+------+--------+\n",
      "| count|distinct|\n",
      "+------+--------+\n",
      "|278154|     225|\n",
      "+------+--------+\n",
      "\n"
     ]
    }
   ],
   "source": [
    "# 计算不重复ID个数，可知总用户共计225人\n",
    "dfx.agg(fn.count('userId').alias('count'),fn.countDistinct('userId').alias('distinct')).show()"
   ]
  },
  {
   "cell_type": "code",
   "execution_count": 8,
   "metadata": {},
   "outputs": [],
   "source": [
    "# 将location里的城市和州的名字分开，并删除location一列\n",
    "split_col = fn.split(dfx['location'], ',')\n",
    "\n",
    "dfx = dfx.withColumn('City', split_col.getItem(0))\n",
    "dfx = dfx.withColumn('State', split_col.getItem(1))\n",
    "dfx = dfx.drop('location')"
   ]
  },
  {
   "cell_type": "code",
   "execution_count": 9,
   "metadata": {},
   "outputs": [],
   "source": [
    "#更改registeration的数据类型\n",
    "get_hour = udf(lambda x: datetime.datetime.fromtimestamp(x / 1000.0).hour)\n",
    "get_day = udf(lambda x: datetime.datetime.fromtimestamp(x / 1000.0).day)\n",
    "get_month = udf(lambda x: datetime.datetime.fromtimestamp(x / 1000.0).month)\n",
    "get_weekday = udf(lambda x: datetime.datetime.fromtimestamp(x / 1000.0).strftime('%w'))"
   ]
  },
  {
   "cell_type": "code",
   "execution_count": 10,
   "metadata": {},
   "outputs": [],
   "source": [
    "funcs = {'hour':get_hour, 'day':get_day, 'month':get_month, 'week_day':get_weekday}\n",
    "for label, func in funcs.items():\n",
    "    dfx = dfx.withColumn(label, func(dfx.ts))"
   ]
  },
  {
   "cell_type": "code",
   "execution_count": 11,
   "metadata": {},
   "outputs": [],
   "source": [
    "# 更改ts的数据类型\n",
    "reg_time = udf(lambda x: datetime.datetime.fromtimestamp(x / 1000.0).strftime(\"%Y-%m-%d %H:%M:%S\"))\n",
    "dfx = dfx.withColumn(\"time\", reg_time(dfx.ts))"
   ]
  },
  {
   "cell_type": "code",
   "execution_count": 12,
   "metadata": {},
   "outputs": [],
   "source": [
    "#同时去掉registeration和ts原列\n",
    "dfx = dfx.drop('registration')\n",
    "dfx = dfx.drop('ts')"
   ]
  },
  {
   "cell_type": "code",
   "execution_count": 13,
   "metadata": {},
   "outputs": [],
   "source": [
    "df_clean = dfx"
   ]
  },
  {
   "cell_type": "code",
   "execution_count": 14,
   "metadata": {},
   "outputs": [
    {
     "name": "stdout",
     "output_type": "stream",
     "text": [
      "root\n",
      " |-- artist: string (nullable = true)\n",
      " |-- auth: string (nullable = true)\n",
      " |-- firstName: string (nullable = true)\n",
      " |-- gender: string (nullable = true)\n",
      " |-- itemInSession: long (nullable = true)\n",
      " |-- lastName: string (nullable = true)\n",
      " |-- length: double (nullable = true)\n",
      " |-- level: string (nullable = true)\n",
      " |-- method: string (nullable = true)\n",
      " |-- page: string (nullable = true)\n",
      " |-- sessionId: long (nullable = true)\n",
      " |-- song: string (nullable = true)\n",
      " |-- status: long (nullable = true)\n",
      " |-- userAgent: string (nullable = true)\n",
      " |-- userId: string (nullable = true)\n",
      " |-- City: string (nullable = true)\n",
      " |-- State: string (nullable = true)\n",
      " |-- hour: string (nullable = true)\n",
      " |-- day: string (nullable = true)\n",
      " |-- month: string (nullable = true)\n",
      " |-- week_day: string (nullable = true)\n",
      " |-- time: string (nullable = true)\n",
      "\n"
     ]
    }
   ],
   "source": [
    "df_clean.printSchema()"
   ]
  },
  {
   "cell_type": "code",
   "execution_count": 15,
   "metadata": {},
   "outputs": [
    {
     "name": "stdout",
     "output_type": "stream",
     "text": [
      "+--------------------+---------+---------+------+---------+-----+---------------+--------------------+------+------+--------+-------------------+\n",
      "|              artist|     auth|firstName|gender|   length|level|           page|                song|userId| State|week_day|               time|\n",
      "+--------------------+---------+---------+------+---------+-----+---------------+--------------------+------+------+--------+-------------------+\n",
      "|      Martha Tilston|Logged In|    Colin|     M|277.89016| paid|       NextSong|           Rockpools|    30|    CA|       1|2018-10-01 00:01:57|\n",
      "|    Five Iron Frenzy|Logged In|    Micah|     M|236.09424| free|       NextSong|              Canada|     9| MA-NH|       1|2018-10-01 00:03:00|\n",
      "|        Adam Lambert|Logged In|    Colin|     M| 282.8273| paid|       NextSong|   Time For Miracles|    30|    CA|       1|2018-10-01 00:06:34|\n",
      "|              Enigma|Logged In|    Micah|     M|262.71302| free|       NextSong|Knocking On Forbi...|     9| MA-NH|       1|2018-10-01 00:06:56|\n",
      "|           Daft Punk|Logged In|    Colin|     M|223.60771| paid|       NextSong|Harder Better Fas...|    30|    CA|       1|2018-10-01 00:11:16|\n",
      "|The All-American ...|Logged In|    Micah|     M|208.29995| free|       NextSong|      Don't Leave Me|     9| MA-NH|       1|2018-10-01 00:11:18|\n",
      "|The Velvet Underg...|Logged In|    Micah|     M|260.46649| free|       NextSong|         Run Run Run|     9| MA-NH|       1|2018-10-01 00:14:46|\n",
      "|        Starflyer 59|Logged In|    Colin|     M|185.44281| paid|       NextSong|Passengers (Old A...|    30|    CA|       1|2018-10-01 00:14:59|\n",
      "|                null|Logged In|    Colin|     M|     null| paid|Add to Playlist|                null|    30|    CA|       1|2018-10-01 00:15:05|\n",
      "|            Frumpies|Logged In|    Colin|     M|134.47791| paid|       NextSong|          Fuck Kitty|    30|    CA|       1|2018-10-01 00:18:04|\n",
      "+--------------------+---------+---------+------+---------+-----+---------------+--------------------+------+------+--------+-------------------+\n",
      "only showing top 10 rows\n",
      "\n"
     ]
    }
   ],
   "source": [
    "#查看清洗后的表格\n",
    "df_clean.select(['artist', 'auth', 'firstName', 'gender', \n",
    "           'length', 'level', 'page','song','userId','State','week_day','time']).show(10)\n"
   ]
  },
  {
   "cell_type": "code",
   "execution_count": null,
   "metadata": {},
   "outputs": [],
   "source": []
  },
  {
   "cell_type": "markdown",
   "metadata": {},
   "source": [
    "# 探索性数据分析\n",
    "当你使用完整数据集时，通过加载小数据集，在 Spark 中完成基础操作来实现探索性数据分析。在这个 Workspace 中，我们已经提供给你一个你可以探索的小数据集。\n",
    "\n",
    "\n",
    "### 探索数据\n",
    "你定义好客户流失后，就可以执行一些探索性数据分析，观察留存用户和流失用户的行为。你可以首先把这两类用户的数据聚合到一起，观察固定时间内某个特定动作出现的次数或者播放音乐的数量。"
   ]
  },
  {
   "cell_type": "markdown",
   "metadata": {},
   "source": [
    "#### 1.定义客户流失\n",
    "在你完成初步分析之后，创建一列 `Churn` 作为模型的标签。我建议你使用 `Cancellation Confirmation` 事件来定义客户流失，该事件在付费或免费客户身上都有发生。作为一个奖励任务，你也可以深入了解 `Downgrade` 事件。"
   ]
  },
  {
   "cell_type": "code",
   "execution_count": 16,
   "metadata": {},
   "outputs": [],
   "source": [
    "# 将访问过cancellation的用户定义客户流失。为了后续的计算，将true 和false变成0和1\n",
    "\n",
    "churn = df_clean.filter(df.page==\"Cancellation Confirmation\").select(\"userId\").dropDuplicates()\n",
    "\n",
    "churn_list = [user[\"userId\"] for user in churn.collect()]\n",
    "\n",
    "churn_event = udf(lambda x:1 if x in churn_list else 0, IntegerType())\n",
    "\n",
    "df_clean = df_clean.withColumn(\"churn\", churn_event(\"userId\"))"
   ]
  },
  {
   "cell_type": "code",
   "execution_count": 17,
   "metadata": {},
   "outputs": [
    {
     "data": {
      "text/plain": [
       "[Row(artist='Martha Tilston', auth='Logged In', firstName='Colin', gender='M', itemInSession=50, lastName='Freeman', length=277.89016, level='paid', method='PUT', page='NextSong', sessionId=29, song='Rockpools', status=200, userAgent='Mozilla/5.0 (Windows NT 6.1; WOW64; rv:31.0) Gecko/20100101 Firefox/31.0', userId='30', City='Bakersfield', State=' CA', hour='0', day='1', month='10', week_day='1', time='2018-10-01 00:01:57', churn=0),\n",
       " Row(artist='Five Iron Frenzy', auth='Logged In', firstName='Micah', gender='M', itemInSession=79, lastName='Long', length=236.09424, level='free', method='PUT', page='NextSong', sessionId=8, song='Canada', status=200, userAgent='\"Mozilla/5.0 (Windows NT 6.1; WOW64) AppleWebKit/537.36 (KHTML, like Gecko) Chrome/37.0.2062.103 Safari/537.36\"', userId='9', City='Boston-Cambridge-Newton', State=' MA-NH', hour='0', day='1', month='10', week_day='1', time='2018-10-01 00:03:00', churn=0),\n",
       " Row(artist='Adam Lambert', auth='Logged In', firstName='Colin', gender='M', itemInSession=51, lastName='Freeman', length=282.8273, level='paid', method='PUT', page='NextSong', sessionId=29, song='Time For Miracles', status=200, userAgent='Mozilla/5.0 (Windows NT 6.1; WOW64; rv:31.0) Gecko/20100101 Firefox/31.0', userId='30', City='Bakersfield', State=' CA', hour='0', day='1', month='10', week_day='1', time='2018-10-01 00:06:34', churn=0),\n",
       " Row(artist='Enigma', auth='Logged In', firstName='Micah', gender='M', itemInSession=80, lastName='Long', length=262.71302, level='free', method='PUT', page='NextSong', sessionId=8, song='Knocking On Forbidden Doors', status=200, userAgent='\"Mozilla/5.0 (Windows NT 6.1; WOW64) AppleWebKit/537.36 (KHTML, like Gecko) Chrome/37.0.2062.103 Safari/537.36\"', userId='9', City='Boston-Cambridge-Newton', State=' MA-NH', hour='0', day='1', month='10', week_day='1', time='2018-10-01 00:06:56', churn=0),\n",
       " Row(artist='Daft Punk', auth='Logged In', firstName='Colin', gender='M', itemInSession=52, lastName='Freeman', length=223.60771, level='paid', method='PUT', page='NextSong', sessionId=29, song='Harder Better Faster Stronger', status=200, userAgent='Mozilla/5.0 (Windows NT 6.1; WOW64; rv:31.0) Gecko/20100101 Firefox/31.0', userId='30', City='Bakersfield', State=' CA', hour='0', day='1', month='10', week_day='1', time='2018-10-01 00:11:16', churn=0)]"
      ]
     },
     "execution_count": 17,
     "metadata": {},
     "output_type": "execute_result"
    }
   ],
   "source": [
    "df_clean.take(5)"
   ]
  },
  {
   "cell_type": "code",
   "execution_count": 18,
   "metadata": {},
   "outputs": [
    {
     "name": "stdout",
     "output_type": "stream",
     "text": [
      "+-----+------+\n",
      "|churn| count|\n",
      "+-----+------+\n",
      "|    1| 44864|\n",
      "|    0|233290|\n",
      "+-----+------+\n",
      "\n"
     ]
    }
   ],
   "source": [
    "df_clean.groupby(\"churn\").count().show()"
   ]
  },
  {
   "cell_type": "code",
   "execution_count": 19,
   "metadata": {},
   "outputs": [
    {
     "name": "stdout",
     "output_type": "stream",
     "text": [
      "+------+------+\n",
      "|gender| count|\n",
      "+------+------+\n",
      "|     F|154578|\n",
      "|     M|123576|\n",
      "+------+------+\n",
      "\n"
     ]
    }
   ],
   "source": [
    "gender_count = df_clean.groupby(\"gender\").count().show()"
   ]
  },
  {
   "cell_type": "markdown",
   "metadata": {},
   "source": [
    "#### 2.查看用户流失的性别分布"
   ]
  },
  {
   "cell_type": "code",
   "execution_count": 20,
   "metadata": {},
   "outputs": [
    {
     "name": "stdout",
     "output_type": "stream",
     "text": [
      "+-----+------+-----+\n",
      "|churn|gender|count|\n",
      "+-----+------+-----+\n",
      "|    0|     M|   89|\n",
      "|    0|     F|   84|\n",
      "|    1|     F|   20|\n",
      "|    1|     M|   32|\n",
      "+-----+------+-----+\n",
      "\n"
     ]
    }
   ],
   "source": [
    "df_clean.dropDuplicates(['userId', 'gender']).groupby([\"churn\", \"gender\"]).count().sort(\"churn\").show()"
   ]
  },
  {
   "cell_type": "code",
   "execution_count": 21,
   "metadata": {},
   "outputs": [
    {
     "data": {
      "text/plain": [
       "<matplotlib.axes._subplots.AxesSubplot at 0x7f21fc279748>"
      ]
     },
     "execution_count": 21,
     "metadata": {},
     "output_type": "execute_result"
    },
    {
     "data": {
      "image/png": "[encoded data removed]",
      "text/plain": [
       "<matplotlib.figure.Figure at 0x7f21fc279588>"
      ]
     },
     "metadata": {
      "needs_background": "light"
     },
     "output_type": "display_data"
    }
   ],
   "source": [
    "df2 = df_clean.dropDuplicates([\"userId\", \"gender\"]).groupby([\"churn\", \"gender\"]).count().sort(\"churn\").toPandas()\n",
    "sns.barplot(x=\"churn\", y='count', hue=\"gender\", data=df2)"
   ]
  },
  {
   "cell_type": "markdown",
   "metadata": {},
   "source": [
    "男性用户比女性用户删除账户的人数更多"
   ]
  },
  {
   "cell_type": "markdown",
   "metadata": {},
   "source": [
    "#### 3.用户付费之间和注销用户的关系"
   ]
  },
  {
   "cell_type": "code",
   "execution_count": 22,
   "metadata": {},
   "outputs": [
    {
     "name": "stdout",
     "output_type": "stream",
     "text": [
      "+-----+-----+-----+\n",
      "|churn|level|count|\n",
      "+-----+-----+-----+\n",
      "|    0| free|  133|\n",
      "|    1| free|   44|\n",
      "|    0| paid|   40|\n",
      "|    1| paid|    8|\n",
      "+-----+-----+-----+\n",
      "\n"
     ]
    }
   ],
   "source": [
    "df_clean.dropDuplicates([\"userId\"]).groupby([\"churn\", \"level\"]).count().sort(\"level\").show()\n"
   ]
  },
  {
   "cell_type": "code",
   "execution_count": 23,
   "metadata": {},
   "outputs": [
    {
     "data": {
      "text/plain": [
       "<matplotlib.axes._subplots.AxesSubplot at 0x7f21fc168860>"
      ]
     },
     "execution_count": 23,
     "metadata": {},
     "output_type": "execute_result"
    },
    {
     "data": {
      "image/png": "[encoded data removed]",
      "text/plain": [
       "<matplotlib.figure.Figure at 0x7f21fc1680f0>"
      ]
     },
     "metadata": {
      "needs_background": "light"
     },
     "output_type": "display_data"
    }
   ],
   "source": [
    "df3 = df_clean.dropDuplicates([\"userId\"]).groupby([\"churn\", \"level\"]).count().sort(\"level\").toPandas()\n",
    "sns.barplot(x=\"level\", y='count', hue=\"churn\", data=df3)"
   ]
  },
  {
   "cell_type": "markdown",
   "metadata": {},
   "source": [
    "免费用户中，注销用户的人数比较多，付费用户的流失用户量比较少"
   ]
  },
  {
   "cell_type": "markdown",
   "metadata": {},
   "source": [
    "#### 4. 查看取消收费订阅和免费订阅的数量\n"
   ]
  },
  {
   "cell_type": "code",
   "execution_count": 24,
   "metadata": {},
   "outputs": [
    {
     "name": "stdout",
     "output_type": "stream",
     "text": [
      "32476\n",
      "12388\n"
     ]
    }
   ],
   "source": [
    "print(df_clean.filter((df_clean.churn == 1) & (df.level=='paid')).count())\n",
    "\n",
    "print(df_clean.filter((df_clean.churn == 1) & (df.level=='free')).count())"
   ]
  },
  {
   "cell_type": "markdown",
   "metadata": {},
   "source": [
    "#### 5.所在州之间的注销用户和留存用户之间的关系"
   ]
  },
  {
   "cell_type": "code",
   "execution_count": 25,
   "metadata": {},
   "outputs": [
    {
     "name": "stdout",
     "output_type": "stream",
     "text": [
      "+-----+---------+-----+\n",
      "|churn|    State|count|\n",
      "+-----+---------+-----+\n",
      "|    0|       WI|    1|\n",
      "|    0|    TN-VA|    1|\n",
      "|    0|    NC-SC|    6|\n",
      "|    0|       MI|    2|\n",
      "|    0|    GA-AL|    2|\n",
      "|    0|       WV|    1|\n",
      "|    0|       UT|    1|\n",
      "|    0|    MD-WV|    1|\n",
      "|    0|       PA|    3|\n",
      "|    0|       FL|   11|\n",
      "|    0|       WA|    2|\n",
      "|    0|       NV|    3|\n",
      "|    0|       NJ|    2|\n",
      "|    0|       CT|    7|\n",
      "|    0|       GA|    4|\n",
      "|    0|       TX|   13|\n",
      "|    0|       MT|    1|\n",
      "|    0|       CO|    2|\n",
      "|    0|    MO-KS|    1|\n",
      "|    0| NY-NJ-PA|   10|\n",
      "+-----+---------+-----+\n",
      "only showing top 20 rows\n",
      "\n"
     ]
    }
   ],
   "source": [
    "df_clean.dropDuplicates(['userId', 'State']).groupby([\"churn\", \"State\"]).count().sort(\"churn\").show()"
   ]
  },
  {
   "cell_type": "code",
   "execution_count": 26,
   "metadata": {},
   "outputs": [
    {
     "data": {
      "image/png": "[encoded data removed]",
      "text/plain": [
       "<matplotlib.figure.Figure at 0x7f21fc1a4630>"
      ]
     },
     "metadata": {
      "needs_background": "light"
     },
     "output_type": "display_data"
    }
   ],
   "source": [
    "df5 = df_clean.dropDuplicates(['userId', 'State']).groupby([\"churn\", \"State\"]).count().sort(\"churn\").toPandas()\n",
    "sns.barplot(x=\"State\", y='count', hue=\"churn\", data=df5)\n",
    "sns.set(rc={'figure.figsize':(50,20)})"
   ]
  },
  {
   "cell_type": "markdown",
   "metadata": {},
   "source": [
    "从图表里可得知，CA这个州的客户流失量最大，其次是NY和FL这两个州"
   ]
  },
  {
   "cell_type": "markdown",
   "metadata": {},
   "source": [
    "#### 6. 查看浏览页的分布情况"
   ]
  },
  {
   "cell_type": "code",
   "execution_count": 27,
   "metadata": {},
   "outputs": [
    {
     "data": {
      "text/plain": [
       "<Container object of 19 artists>"
      ]
     },
     "execution_count": 27,
     "metadata": {},
     "output_type": "execute_result"
    },
    {
     "data": {
      "image/png": "[encoded data removed]",
      "text/plain": [
       "<matplotlib.figure.Figure at 0x7f21fc1767b8>"
      ]
     },
     "metadata": {},
     "output_type": "display_data"
    }
   ],
   "source": [
    "page_counts = df_clean.groupby(\"page\").count().sort(\"count\").toPandas()\n",
    "page_counts['count'] = page_counts['count'].astype(float)\n",
    "\n",
    "plt.barh(page_counts[\"page\"], page_counts[\"count\"])\n"
   ]
  },
  {
   "cell_type": "markdown",
   "metadata": {},
   "source": [
    "绝大部分的用户选择‘NextSong’，其次是点赞或者将歌曲加入各单。从数据层面上可以发现，大部分用户还是对Spark是喜爱的。"
   ]
  },
  {
   "cell_type": "code",
   "execution_count": null,
   "metadata": {},
   "outputs": [],
   "source": []
  },
  {
   "cell_type": "code",
   "execution_count": null,
   "metadata": {},
   "outputs": [],
   "source": []
  },
  {
   "cell_type": "markdown",
   "metadata": {},
   "source": [
    "# 特征工程"
   ]
  },
  {
   "cell_type": "markdown",
   "metadata": {},
   "source": [
    "\n",
    "在大致的对数据进行分析后，决定保留或者综合数据内容得出如下相关元素：\n",
    " - 1.userId\n",
    " - 2.churn\n",
    " - 3.gender\n",
    " - 4.level\n",
    " - 5.ThumbsUp\n",
    " - 6.ThumbsDown\n",
    " - 7.AddtoPlaylist\n",
    " - 8.AddFriend\n",
    " - 9.songs\n",
    " - 10.artist"
   ]
  },
  {
   "cell_type": "code",
   "execution_count": 28,
   "metadata": {
    "scrolled": true
   },
   "outputs": [
    {
     "name": "stdout",
     "output_type": "stream",
     "text": [
      "root\n",
      " |-- artist: string (nullable = true)\n",
      " |-- auth: string (nullable = true)\n",
      " |-- firstName: string (nullable = true)\n",
      " |-- gender: string (nullable = true)\n",
      " |-- itemInSession: long (nullable = true)\n",
      " |-- lastName: string (nullable = true)\n",
      " |-- length: double (nullable = true)\n",
      " |-- level: string (nullable = true)\n",
      " |-- method: string (nullable = true)\n",
      " |-- page: string (nullable = true)\n",
      " |-- sessionId: long (nullable = true)\n",
      " |-- song: string (nullable = true)\n",
      " |-- status: long (nullable = true)\n",
      " |-- userAgent: string (nullable = true)\n",
      " |-- userId: string (nullable = true)\n",
      " |-- City: string (nullable = true)\n",
      " |-- State: string (nullable = true)\n",
      " |-- hour: string (nullable = true)\n",
      " |-- day: string (nullable = true)\n",
      " |-- month: string (nullable = true)\n",
      " |-- week_day: string (nullable = true)\n",
      " |-- time: string (nullable = true)\n",
      "\n"
     ]
    }
   ],
   "source": [
    "dfx.printSchema()"
   ]
  },
  {
   "cell_type": "code",
   "execution_count": 29,
   "metadata": {},
   "outputs": [],
   "source": [
    "churn = dfx.filter(dfx.page==\"Cancellation Confirmation\").select(\"userId\").dropDuplicates()\n",
    "\n",
    "churn_list = [user[\"userId\"] for user in churn.collect()]\n",
    "\n",
    "churn_event = udf(lambda x:1 if x in churn_list else 0, IntegerType())\n",
    "\n",
    "dfx = dfx.withColumn(\"churn\", churn_event(\"userId\"))"
   ]
  },
  {
   "cell_type": "code",
   "execution_count": 30,
   "metadata": {},
   "outputs": [],
   "source": [
    "df_final = dfx.drop_duplicates(['userId']).select(['userId','churn','gender','level'])"
   ]
  },
  {
   "cell_type": "code",
   "execution_count": 31,
   "metadata": {},
   "outputs": [],
   "source": [
    "df_final = df_final.replace(['F','M'], ['1', '0'],'gender')\n",
    "df_final = df_final.replace(['paid','free'], ['1', '0'],'level')\n",
    "df_final = df_final.withColumn('gender', df_final.gender.cast('int'))\n",
    "df_final = df_final.withColumn('level', df_final.level.cast('int'))\n"
   ]
  },
  {
   "cell_type": "code",
   "execution_count": 32,
   "metadata": {},
   "outputs": [],
   "source": [
    "songs = dfx.filter(dfx.song !='null').groupby('userId')\\\n",
    ".agg(count(dfx.song).alias('songs')).select(['userId','songs'])\n",
    "\n",
    "artist = dfx.dropDuplicates(['userId','artist']).groupby('userId')\\\n",
    ".agg(count(dfx.artist).alias('artist')).select(['userId', 'artist'])"
   ]
  },
  {
   "cell_type": "code",
   "execution_count": 33,
   "metadata": {},
   "outputs": [],
   "source": [
    "df_final = df_final.join(songs,'userId')\n",
    "df_final = df_final.join(artist,'userId')"
   ]
  },
  {
   "cell_type": "code",
   "execution_count": 34,
   "metadata": {},
   "outputs": [],
   "source": [
    "features = ['Thumbs Up','Thumbs Down','Add to Playlist','Add Friend' ]\n",
    "\n",
    "for feature in features:\n",
    "    feature_ = feature.replace(' ','')\n",
    "    df_feature = dfx.filter(dfx.page==feature).groupby('userId')\\\n",
    "    .agg(count(dfx.page).alias(feature_)).select(['userId',feature_])\n",
    "    \n",
    "    df_final = df_final.join(df_feature,'userId')\n"
   ]
  },
  {
   "cell_type": "code",
   "execution_count": 35,
   "metadata": {},
   "outputs": [
    {
     "name": "stdout",
     "output_type": "stream",
     "text": [
      "+------+-----+------+-----+-----+------+--------+----------+-------------+---------+\n",
      "|userId|churn|gender|level|songs|artist|ThumbsUp|ThumbsDown|AddtoPlaylist|AddFriend|\n",
      "+------+-----+------+-----+-----+------+--------+----------+-------------+---------+\n",
      "|100010|    0|     1|    0|  275|   252|      17|         5|            7|        4|\n",
      "|200002|    0|     0|    0|  387|   339|      21|         6|            8|        4|\n",
      "|   124|    0|     1|    1| 4079|  2232|     171|        41|          118|       74|\n",
      "|    51|    1|     0|    1| 2111|  1385|     100|        21|           52|       28|\n",
      "|     7|    0|     0|    0|  150|   142|       7|         1|            5|        1|\n",
      "+------+-----+------+-----+-----+------+--------+----------+-------------+---------+\n",
      "only showing top 5 rows\n",
      "\n"
     ]
    }
   ],
   "source": [
    "df_final.show(5)"
   ]
  },
  {
   "cell_type": "code",
   "execution_count": 52,
   "metadata": {},
   "outputs": [
    {
     "name": "stdout",
     "output_type": "stream",
     "text": [
      "root\n",
      " |-- userId: string (nullable = true)\n",
      " |-- churn: integer (nullable = true)\n",
      " |-- gender: integer (nullable = true)\n",
      " |-- level: integer (nullable = true)\n",
      " |-- songs: long (nullable = false)\n",
      " |-- artist: long (nullable = false)\n",
      " |-- ThumbsUp: long (nullable = false)\n",
      " |-- ThumbsDown: long (nullable = false)\n",
      " |-- AddtoPlaylist: long (nullable = false)\n",
      " |-- AddFriend: long (nullable = false)\n",
      "\n"
     ]
    }
   ],
   "source": [
    "df_final.printSchema()"
   ]
  },
  {
   "cell_type": "code",
   "execution_count": 53,
   "metadata": {},
   "outputs": [],
   "source": [
    "data = df_final"
   ]
  },
  {
   "cell_type": "markdown",
   "metadata": {},
   "source": [
    "# 建模\n",
    "将完整数据集分成训练集、测试集和验证集。测试几种你学过的机器学习方法。评价不同机器学习方法的准确率，根据情况调节参数。根据准确率你挑选出表现最好的那个模型，然后报告在训练集上的结果。因为流失顾客数据集很小，我建议选用 F1 score 作为优化指标。"
   ]
  },
  {
   "cell_type": "code",
   "execution_count": 80,
   "metadata": {},
   "outputs": [],
   "source": [
    "#将数据集分成训练集、测试集和验证集\n",
    "train, rest = df_final.randomSplit([0.7, 0.3], seed=42)\n",
    "validation, test = rest.randomSplit([0.5,0.5], seed=42)"
   ]
  },
  {
   "cell_type": "markdown",
   "metadata": {},
   "source": [
    "#### 一、逻辑回归"
   ]
  },
  {
   "cell_type": "code",
   "execution_count": 81,
   "metadata": {},
   "outputs": [],
   "source": [
    "assembler = VectorAssembler(inputCols=df_final.columns[2:], outputCol=\"features\")\n",
    "scaler = StandardScaler(inputCol=\"features\", outputCol=\"scaled_features\",withStd=True, withMean=True)\n",
    "indexer = StringIndexer(inputCol='churn', outputCol='label')"
   ]
  },
  {
   "cell_type": "code",
   "execution_count": 82,
   "metadata": {},
   "outputs": [],
   "source": [
    "lr =  LogisticRegression(maxIter=12, regParam=0.0, elasticNetParam=0)"
   ]
  },
  {
   "cell_type": "code",
   "execution_count": 83,
   "metadata": {},
   "outputs": [],
   "source": [
    "# 建立管道\n",
    "model_lr = Pipeline(stages=[assembler,scaler, indexer, lr])\n",
    "\n",
    "# 建立参数网格\n",
    "paramGrid = ParamGridBuilder().build()\n",
    "\n",
    "# 设置交叉验证\n",
    "crossval_lr = CrossValidator(estimator=model_lr,\n",
    "                             estimatorParamMaps=paramGrid,\n",
    "                             evaluator=MulticlassClassificationEvaluator(),\n",
    "                            numFolds=3)\n",
    "\n"
   ]
  },
  {
   "cell_type": "code",
   "execution_count": 84,
   "metadata": {},
   "outputs": [],
   "source": [
    "cvmodel_lr = crossval_lr.fit(train)\n",
    "results_lr = cvmodel_lr.transform(validation)"
   ]
  },
  {
   "cell_type": "code",
   "execution_count": 85,
   "metadata": {},
   "outputs": [],
   "source": [
    "evaluator  = MulticlassClassificationEvaluator(predictionCol=\"prediction\" )"
   ]
  },
  {
   "cell_type": "code",
   "execution_count": 86,
   "metadata": {},
   "outputs": [
    {
     "name": "stdout",
     "output_type": "stream",
     "text": [
      "Logistic Regression Metrics:\n",
      "Accuracy: 0.625\n",
      "F-1 Score:0.4807692307692308\n"
     ]
    }
   ],
   "source": [
    "print('Logistic Regression Metrics:')\n",
    "print('Accuracy: {}'.format(evaluator.evaluate(results_lr, {evaluator.metricName: \"accuracy\"})))\n",
    "print('F-1 Score:{}'.format(evaluator.evaluate(results_lr, {evaluator.metricName: \"f1\"})))"
   ]
  },
  {
   "cell_type": "markdown",
   "metadata": {},
   "source": [
    "#### 二、随机森林"
   ]
  },
  {
   "cell_type": "code",
   "execution_count": 87,
   "metadata": {},
   "outputs": [],
   "source": [
    "rf = RandomForestClassifier(numTrees=10)\n",
    "\n",
    "# 建立管道\n",
    "model_rf = Pipeline(stages=[assembler,scaler, indexer, rf])\n",
    "\n",
    "# 建立参数网格\n",
    "paramGrid = ParamGridBuilder().build()\n",
    "\n",
    "# 设置交叉验证\n",
    "crossval_rf = CrossValidator(estimator=model_rf,\n",
    "                             estimatorParamMaps=paramGrid,\n",
    "                             evaluator=MulticlassClassificationEvaluator(),\n",
    "                            numFolds=3)\n",
    "\n",
    "\n",
    "\n"
   ]
  },
  {
   "cell_type": "code",
   "execution_count": 88,
   "metadata": {},
   "outputs": [],
   "source": [
    "cvmodel_rf = crossval_rf.fit(train)\n",
    "results_rf = cvmodel_rf.transform(validation)"
   ]
  },
  {
   "cell_type": "code",
   "execution_count": 89,
   "metadata": {},
   "outputs": [],
   "source": [
    "evaluator  = MulticlassClassificationEvaluator(predictionCol=\"prediction\" )"
   ]
  },
  {
   "cell_type": "code",
   "execution_count": 90,
   "metadata": {},
   "outputs": [
    {
     "name": "stdout",
     "output_type": "stream",
     "text": [
      "Random Forest Metrics:\n",
      "Accuracy: 0.5\n",
      "F-1 Score:0.41666666666666663\n"
     ]
    }
   ],
   "source": [
    "print('Random Forest Metrics:')\n",
    "print('Accuracy: {}'.format(evaluator.evaluate(results_rf, {evaluator.metricName: \"accuracy\"})))\n",
    "print('F-1 Score:{}'.format(evaluator.evaluate(results_rf, {evaluator.metricName: \"f1\"})))"
   ]
  },
  {
   "cell_type": "markdown",
   "metadata": {},
   "source": [
    "#### 三、Gradient Boosted Trees "
   ]
  },
  {
   "cell_type": "code",
   "execution_count": 91,
   "metadata": {},
   "outputs": [],
   "source": [
    "gbt = GBTClassifier(maxIter=10,seed=42)\n",
    "\n",
    "# 建立管道\n",
    "model_gbt = Pipeline(stages=[assembler,scaler, indexer, gbt])\n",
    "\n",
    "# 建立参数网格\n",
    "paramGrid = ParamGridBuilder().build()\n",
    "\n",
    "# 设置交叉验证\n",
    "crossval_gbt = CrossValidator(estimator=model_gbt,\n",
    "                             estimatorParamMaps=paramGrid,\n",
    "                             evaluator=MulticlassClassificationEvaluator(),\n",
    "                            numFolds=3)\n"
   ]
  },
  {
   "cell_type": "code",
   "execution_count": 92,
   "metadata": {},
   "outputs": [],
   "source": [
    "cvmodel_gbt = crossval_gbt.fit(train)\n",
    "results_gbt = cvmodel_gbt.transform(validation)"
   ]
  },
  {
   "cell_type": "code",
   "execution_count": 93,
   "metadata": {},
   "outputs": [],
   "source": [
    "evaluator  = MulticlassClassificationEvaluator(predictionCol=\"prediction\" )"
   ]
  },
  {
   "cell_type": "code",
   "execution_count": 94,
   "metadata": {},
   "outputs": [
    {
     "name": "stdout",
     "output_type": "stream",
     "text": [
      "Gradient Boosted Trees Metrics:\n",
      "Accuracy: 0.375\n",
      "F-1 Score:0.3409090909090909\n"
     ]
    }
   ],
   "source": [
    "print('Gradient Boosted Trees Metrics:')\n",
    "print('Accuracy: {}'.format(evaluator.evaluate(results_gbt, {evaluator.metricName: \"accuracy\"})))\n",
    "print('F-1 Score:{}'.format(evaluator.evaluate(results_gbt, {evaluator.metricName: \"f1\"})))"
   ]
  },
  {
   "cell_type": "code",
   "execution_count": null,
   "metadata": {},
   "outputs": [],
   "source": []
  },
  {
   "cell_type": "markdown",
   "metadata": {},
   "source": [
    "### 结论："
   ]
  },
  {
   "cell_type": "markdown",
   "metadata": {},
   "source": [
    "根据三个模型对比后，发现逻辑回归的准确性和F1 score。因此采用这个模型可以更好的预测流失用户。处理大数据以改进模型时，其实我们也可以考虑添加更加多的指标。 比如滚动广告，注销用户的情况也可以添加到功能中"
   ]
  },
  {
   "cell_type": "markdown",
   "metadata": {},
   "source": [
    "。"
   ]
  },
  {
   "cell_type": "code",
   "execution_count": null,
   "metadata": {},
   "outputs": [],
   "source": []
  }
 ],
 "metadata": {
  "kernelspec": {
   "display_name": "Python 3",
   "language": "python",
   "name": "python3"
  },
  "language_info": {
   "codemirror_mode": {
    "name": "ipython",
    "version": 3
   },
   "file_extension": ".py",
   "mimetype": "text/x-python",
   "name": "python",
   "nbconvert_exporter": "python",
   "pygments_lexer": "ipython3",
   "version": "3.7.3"
  }
 },
 "nbformat": 4,
 "nbformat_minor": 2
}
